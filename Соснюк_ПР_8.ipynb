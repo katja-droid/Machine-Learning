{
 "cells": [
  {
   "cell_type": "code",
   "execution_count": 23,
   "id": "c09ae8a2-184e-4bf3-9d6a-783c74ef4484",
   "metadata": {},
   "outputs": [
    {
     "name": "stdout",
     "output_type": "stream",
     "text": [
      "Requirement already satisfied: scikit-surprise in c:\\users\\s\\appdata\\local\\programs\\python\\python310\\lib\\site-packages (1.1.3)\n",
      "Requirement already satisfied: joblib>=1.0.0 in c:\\users\\s\\appdata\\local\\programs\\python\\python310\\lib\\site-packages (from scikit-surprise) (1.3.2)\n",
      "Requirement already satisfied: numpy>=1.17.3 in c:\\users\\s\\appdata\\local\\programs\\python\\python310\\lib\\site-packages (from scikit-surprise) (1.23.5)\n",
      "Requirement already satisfied: scipy>=1.3.2 in c:\\users\\s\\appdata\\local\\programs\\python\\python310\\lib\\site-packages (from scikit-surprise) (1.10.1)\n"
     ]
    },
    {
     "name": "stderr",
     "output_type": "stream",
     "text": [
      "\n",
      "[notice] A new release of pip is available: 23.1.2 -> 23.3.1\n",
      "[notice] To update, run: python.exe -m pip install --upgrade pip\n"
     ]
    },
    {
     "name": "stdout",
     "output_type": "stream",
     "text": [
      "Evaluating RMSE, MAE of algorithm SVD on 5 split(s).\n",
      "\n",
      "                  Fold 1  Fold 2  Fold 3  Fold 4  Fold 5  Mean    Std     \n",
      "RMSE (testset)    0.9311  0.9399  0.9332  0.9432  0.9333  0.9361  0.0046  \n",
      "MAE (testset)     0.7360  0.7413  0.7334  0.7424  0.7368  0.7380  0.0034  \n",
      "Fit time          0.79    0.84    0.79    0.84    0.85    0.82    0.03    \n",
      "Test time         0.09    0.09    0.17    0.10    0.10    0.11    0.03    \n",
      "RMSE: 0.9372\n"
     ]
    },
    {
     "data": {
      "text/plain": [
       "0.9372462069293592"
      ]
     },
     "execution_count": 23,
     "metadata": {},
     "output_type": "execute_result"
    }
   ],
   "source": [
    "# СОСНЮК КАТЕРИНА ФІТ 4-6 ВАРІАНТ 22 \n",
    "!pip install scikit-surprise\n",
    "# АЛГОРИТМ SVD\n",
    "from surprise import accuracy\n",
    "from sklearn.metrics import mean_absolute_error\n",
    "from surprise.model_selection import train_test_split\n",
    "from surprise import SVD\n",
    "from surprise import Dataset\n",
    "from surprise.model_selection import cross_validate\n",
    "# Використати датасет   movielens-100k  \n",
    "data = Dataset.load_builtin(name='ml-100k', prompt=False)\n",
    "algo = SVD()\n",
    "# Найкращі параметри для всіх алгоритмів підберіть за допомогою крос-валідації\n",
    "cross_validate(algo, data, measures=['RMSE', 'MAE'], cv=5, verbose=True)\n",
    "# Обчисліть середнє значення середньоквадратичної помилки RMSE для кожного алгоритму на основі результатів крос-валідації. \n",
    "trainset, testset = train_test_split(data, test_size=.25)\n",
    "algo.fit(trainset)\n",
    "predictions = algo.test(testset)\n",
    "accuracy.rmse(predictions)"
   ]
  },
  {
   "cell_type": "code",
   "execution_count": 15,
   "id": "9be2102c-b59a-4c1f-a3e1-73ec2a135f9b",
   "metadata": {},
   "outputs": [
    {
     "name": "stdout",
     "output_type": "stream",
     "text": [
      "Evaluating RMSE, MAE of algorithm SVDpp on 5 split(s).\n",
      "\n",
      "                  Fold 1  Fold 2  Fold 3  Fold 4  Fold 5  Mean    Std     \n",
      "RMSE (testset)    0.9194  0.9191  0.9240  0.9165  0.9156  0.9189  0.0029  \n",
      "MAE (testset)     0.7193  0.7202  0.7257  0.7202  0.7184  0.7208  0.0025  \n",
      "Fit time          15.00   14.79   15.78   15.26   15.24   15.22   0.33    \n",
      "Test time         2.60    2.66    2.71    2.61    2.68    2.65    0.04    \n",
      "RMSE: 0.9191\n"
     ]
    },
    {
     "data": {
      "text/plain": [
       "0.9191368407991733"
      ]
     },
     "execution_count": 15,
     "metadata": {},
     "output_type": "execute_result"
    }
   ],
   "source": [
    "# АЛГОРИТМ SVDpp\n",
    "from surprise import SVDpp\n",
    "from surprise import Dataset\n",
    "from surprise.model_selection import cross_validate\n",
    "from surprise import accuracy\n",
    "from surprise.model_selection import train_test_split\n",
    "\n",
    "algo = SVDpp()\n",
    "\n",
    "cross_validate(algo, data, measures=['RMSE', 'MAE'], cv=5, verbose=True)\n",
    "trainset, testset = train_test_split(data, test_size=.25)\n",
    "algo.fit(trainset)\n",
    "predictions = algo.test(testset)\n",
    "accuracy.rmse(predictions)\n"
   ]
  },
  {
   "cell_type": "code",
   "execution_count": 16,
   "id": "2fa88e7a-c7d1-46e6-ae5e-808eb44e69e8",
   "metadata": {},
   "outputs": [
    {
     "name": "stdout",
     "output_type": "stream",
     "text": [
      "Evaluating RMSE, MAE of algorithm NMF on 5 split(s).\n",
      "\n",
      "                  Fold 1  Fold 2  Fold 3  Fold 4  Fold 5  Mean    Std     \n",
      "RMSE (testset)    0.9699  0.9621  0.9664  0.9759  0.9548  0.9658  0.0071  \n",
      "MAE (testset)     0.7626  0.7528  0.7589  0.7686  0.7552  0.7596  0.0056  \n",
      "Fit time          1.29    1.38    1.41    1.36    1.25    1.34    0.06    \n",
      "Test time         0.09    0.17    0.09    0.13    0.08    0.11    0.03    \n",
      "RMSE: 0.9656\n"
     ]
    },
    {
     "data": {
      "text/plain": [
       "0.9656020961830131"
      ]
     },
     "execution_count": 16,
     "metadata": {},
     "output_type": "execute_result"
    }
   ],
   "source": [
    "# АЛГОРИТМ NMF\n",
    "from surprise import NMF\n",
    "from surprise import Dataset\n",
    "from surprise.model_selection import cross_validate\n",
    "from surprise import accuracy\n",
    "from surprise.model_selection import train_test_split\n",
    "\n",
    "algo = NMF()\n",
    "\n",
    "cross_validate(algo, data, measures=['RMSE', 'MAE'], cv=5, verbose=True)\n",
    "\n",
    "trainset, testset = train_test_split(data, test_size=.25)\n",
    "\n",
    "algo.fit(trainset)\n",
    "\n",
    "predictions = algo.test(testset)\n",
    "\n",
    "accuracy.rmse(predictions)\n",
    "\n"
   ]
  },
  {
   "cell_type": "code",
   "execution_count": 17,
   "id": "f9aadefd-9bbd-4927-acf8-76379f89cc83",
   "metadata": {},
   "outputs": [
    {
     "name": "stdout",
     "output_type": "stream",
     "text": [
      "Evaluating RMSE, MAE of algorithm NormalPredictor on 5 split(s).\n",
      "\n",
      "                  Fold 1  Fold 2  Fold 3  Fold 4  Fold 5  Mean    Std     \n",
      "RMSE (testset)    1.5265  1.5226  1.5082  1.5252  1.5182  1.5202  0.0066  \n",
      "MAE (testset)     1.2255  1.2220  1.2130  1.2238  1.2206  1.2210  0.0043  \n",
      "Fit time          0.08    0.10    0.10    0.10    0.11    0.10    0.01    \n",
      "Test time         0.06    0.06    0.16    0.08    0.12    0.09    0.04    \n",
      "RMSE: 1.5228\n"
     ]
    },
    {
     "data": {
      "text/plain": [
       "1.5227781066386088"
      ]
     },
     "execution_count": 17,
     "metadata": {},
     "output_type": "execute_result"
    }
   ],
   "source": [
    "# АЛГОРИТМ Random\n",
    "from surprise import Dataset\n",
    "from surprise import Reader\n",
    "from surprise.model_selection import cross_validate\n",
    "from surprise import accuracy\n",
    "from surprise.prediction_algorithms.random_pred import NormalPredictor\n",
    "from surprise.model_selection import train_test_split\n",
    "\n",
    "algo = NormalPredictor()\n",
    "cross_validate(algo, data, measures=['RMSE', 'MAE'], cv=5, verbose=True)\n",
    "trainset, testset = train_test_split(data, test_size=.25)\n",
    "algo.fit(trainset)\n",
    "predictions = algo.test(testset)\n",
    "accuracy.rmse(predictions)"
   ]
  },
  {
   "cell_type": "code",
   "execution_count": 18,
   "id": "f0e29317-a0e7-4040-a028-01bb3b1d554e",
   "metadata": {},
   "outputs": [
    {
     "name": "stdout",
     "output_type": "stream",
     "text": [
      "Computing the msd similarity matrix...\n",
      "Done computing similarity matrix.\n",
      "Computing the msd similarity matrix...\n",
      "Done computing similarity matrix.\n",
      "Computing the msd similarity matrix...\n",
      "Done computing similarity matrix.\n",
      "Computing the msd similarity matrix...\n",
      "Done computing similarity matrix.\n",
      "Computing the msd similarity matrix...\n",
      "Done computing similarity matrix.\n",
      "Evaluating RMSE, MAE of algorithm KNNBasic on 5 split(s).\n",
      "\n",
      "                  Fold 1  Fold 2  Fold 3  Fold 4  Fold 5  Mean    Std     \n",
      "RMSE (testset)    0.9773  0.9823  0.9678  0.9826  0.9817  0.9784  0.0056  \n",
      "MAE (testset)     0.7752  0.7725  0.7651  0.7750  0.7758  0.7727  0.0040  \n",
      "Fit time          0.42    0.43    0.43    0.44    0.41    0.43    0.01    \n",
      "Test time         2.37    2.21    2.20    2.19    2.29    2.25    0.07    \n",
      "Computing the msd similarity matrix...\n",
      "Done computing similarity matrix.\n",
      "RMSE: 0.9839\n"
     ]
    },
    {
     "data": {
      "text/plain": [
       "0.9839177112717659"
      ]
     },
     "execution_count": 18,
     "metadata": {},
     "output_type": "execute_result"
    }
   ],
   "source": [
    "# АЛГОРИТМ KNNBasic\n",
    "from surprise import Dataset\n",
    "from surprise import KNNBasic\n",
    "from surprise.model_selection import cross_validate\n",
    "from surprise import accuracy\n",
    "from surprise.model_selection import train_test_split\n",
    "\n",
    "algo = KNNBasic()\n",
    "cross_validate(algo, data, measures=['RMSE', 'MAE'], cv=5, verbose=True)\n",
    "trainset, testset = train_test_split(data, test_size=.25)\n",
    "algo.fit(trainset)\n",
    "predictions = algo.test(testset)\n",
    "accuracy.rmse(predictions)\n"
   ]
  },
  {
   "cell_type": "code",
   "execution_count": 24,
   "id": "26233f18-5ff8-4377-a83b-301879d1f7db",
   "metadata": {},
   "outputs": [
    {
     "name": "stdout",
     "output_type": "stream",
     "text": [
      "Evaluating RMSE, MAE of algorithm SVDpp on 5 split(s).\n",
      "\n",
      "                  Fold 1  Fold 2  Fold 3  Fold 4  Fold 5  Mean    Std     \n",
      "RMSE (testset)    0.9183  0.9220  0.9168  0.9212  0.9170  0.9190  0.0021  \n",
      "MAE (testset)     0.7219  0.7222  0.7204  0.7197  0.7179  0.7204  0.0016  \n",
      "Fit time          14.65   15.08   15.62   15.49   15.31   15.23   0.34    \n",
      "Test time         2.60    2.51    2.64    2.58    2.66    2.60    0.05    \n"
     ]
    },
    {
     "data": {
      "image/png": "[encoded data removed]",
      "text/plain": [
       "<Figure size 1000x600 with 1 Axes>"
      ]
     },
     "metadata": {},
     "output_type": "display_data"
    }
   ],
   "source": [
    "import matplotlib.pyplot as plt\n",
    "import seaborn as sns\n",
    "from surprise import SVDpp\n",
    "from surprise import Dataset\n",
    "from surprise.model_selection import cross_validate\n",
    "from surprise import accuracy\n",
    "from surprise.model_selection import train_test_split\n",
    "# Виберіть оптимальний алгоритм\n",
    "#НАЙМЕНШЕ ЗНАЧЕННЯ RMSE ПОКАЗАВ АЛГОРИТМ SVDpp, ТОМУ ОБИРАЄМО ЙОГО\n",
    "algo = SVDpp()\n",
    "cross_validate(algo, data, measures=['RMSE', 'MAE'], cv=5, verbose=True)\n",
    "trainset, testset = train_test_split(data, test_size=.25)\n",
    "algo.fit(trainset)\n",
    "actual_ratings = [rating.r_ui for rating in predictions]\n",
    "predicted_ratings = [rating.est for rating in predictions]\n",
    "# Зробіть візуалізацію\n",
    "plt.figure(figsize=(10, 6))\n",
    "plt.scatter(actual_ratings, predicted_ratings, alpha=0.5)\n",
    "plt.title('Передбачувані vs. Реальні оцінки')\n",
    "plt.xlabel('Реальні оцінки')\n",
    "plt.ylabel('Передбачувані оцінки')\n",
    "plt.show()"
   ]
  },
  {
   "cell_type": "code",
   "execution_count": null,
   "id": "5621f6ee-4174-406e-9d37-ff9f54718864",
   "metadata": {},
   "outputs": [],
   "source": [
    "# ВИСНОВОК: Було побудовано рекомендаційну систему на основі 5 алгоритмів, найефективнішим на даному датасеті виявився алгоритм SVDpp із RMSE 0.9191368407991733 \n",
    "# (найменше значення серед усіх алгоритмів)"
   ]
  }
 ],
 "metadata": {
  "kernelspec": {
   "display_name": "Python 3 (ipykernel)",
   "language": "python",
   "name": "python3"
  },
  "language_info": {
   "codemirror_mode": {
    "name": "ipython",
    "version": 3
   },
   "file_extension": ".py",
   "mimetype": "text/x-python",
   "name": "python",
   "nbconvert_exporter": "python",
   "pygments_lexer": "ipython3",
   "version": "3.10.7"
  }
 },
 "nbformat": 4,
 "nbformat_minor": 5
}
