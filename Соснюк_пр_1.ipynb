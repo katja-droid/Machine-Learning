{
 "cells": [
  {
   "cell_type": "code",
   "execution_count": 2,
   "id": "ec0acef1-1466-4efd-ad72-588d6c2d9e0f",
   "metadata": {},
   "outputs": [
    {
     "name": "stdout",
     "output_type": "stream",
     "text": [
      "Task 1\n",
      "[2.718281828459045, 7.38905609893065, 20.085536923187668, 54.598150033144236, 148.4131591025766, 403.4287934927351, 1096.6331584284585, 2980.9579870417283, 8103.083927575384]\n"
     ]
    }
   ],
   "source": [
    "\n",
    "import numpy as np\n",
    "import math\n",
    "# СОСНЮК КАТЕРИНА ФІТ 4-6 ВАРІАНТ 22\n",
    "# 1 Створіть одновимірний масив (вектор) зі значеннями \n",
    "# e^x\n",
    " \n",
    "# для кожного натурального числа x, починаючи з 1, та виведіть його значення. \"\"\"\n",
    "# create Pandas array with dtype string\n",
    "# Example 1: Use fill() function\n",
    "arr = np.arange(9)\n",
    "arr = list(map(lambda x: math.exp(x+1), arr))\n",
    "print(\"Task 1\")\n",
    "print(arr)\n",
    "# Створіть двовимірний масив (матрицю) розміром 3x3, заповніть його тангенсами кожного натурального числа, починаючи з 1, та виведіть його значення. \n"
   ]
  },
  {
   "cell_type": "code",
   "execution_count": 3,
   "id": "00abd6c6-796a-4bc8-81b0-e2c9353cc35f",
   "metadata": {},
   "outputs": [
    {
     "name": "stdout",
     "output_type": "stream",
     "text": [
      "Task 2\n",
      "[[1.5574077246549023, -2.185039863261519, -0.1425465430742778], [1.1578212823495777, -3.380515006246586, -0.29100619138474915], [0.8714479827243188, -6.799711455220379, -0.45231565944180985]]\n"
     ]
    }
   ],
   "source": [
    "# 2 Створіть двовимірний масив (матрицю) розміром 3x3, заповніть його тангенсами кожного натурального числа, починаючи з 1, та виведіть його значення.\n",
    "#Примітка: обчислено в радіанах\n",
    "\n",
    "arr = np.arange(1,10).reshape(3, -1)\n",
    "\n",
    "calc_tan = lambda x: math.tan(x)\n",
    "\n",
    "arr = list(map(lambda i: list(map(lambda j: calc_tan(j), i)), arr))\n",
    "\n",
    "print(\"Task 2\")\n",
    "print(arr)"
   ]
  },
  {
   "cell_type": "code",
   "execution_count": 4,
   "id": "8f723c35-09e9-47c7-9b76-3d08e80fd018",
   "metadata": {},
   "outputs": [
    {
     "name": "stdout",
     "output_type": "stream",
     "text": [
      "[[ 6.56802486e-01 -3.79136879e-01  9.17721226e-01 -3.27461987e-01\n",
      "  -3.47378546e-01 -1.82126729e-01 -3.25377603e-01  6.29185274e-01]\n",
      " [ 2.33061151e-01 -7.79183027e-01  5.08338118e-01 -9.89429289e-01\n",
      "  -2.76427819e-01  9.63275855e-02 -2.51653693e-01  6.62160294e-01]\n",
      " [ 4.59572971e-01 -6.93040964e-01 -8.57521426e-01  7.33091748e-02\n",
      "   7.73006516e-01  5.52850508e-01  4.90398785e-01  3.14734926e-01]\n",
      " [-3.52620661e-01 -4.71969332e-01 -4.52847691e-01  6.44854589e-01\n",
      "  -3.02245932e-01  4.92813451e-01  6.49646557e-01  5.12901973e-01]\n",
      " [ 5.30936452e-01  7.09890327e-01 -1.35271864e-01  6.17505379e-01\n",
      "   4.19181824e-01  7.56347710e-01 -5.32756957e-01  5.44261382e-01]\n",
      " [ 7.15087463e-01  3.99796826e-01  2.79404769e-01 -2.95323764e-01\n",
      "  -2.04866840e-01 -3.49292486e-02 -9.42755329e-02 -9.40429895e-01]\n",
      " [ 5.89658215e-01 -1.65671905e-01  5.80540694e-01  3.20151229e-01\n",
      "  -8.87717703e-01  2.77051808e-01  9.60873151e-01  9.69074210e-01]\n",
      " [ 4.18094667e-01  6.70298426e-01  3.01825585e-02 -9.16035379e-01\n",
      "   3.12213225e-01 -2.29403687e-04 -5.63489463e-01 -8.18457498e-01]]\n",
      "Task 3\n",
      "negative numbers percentage:\n",
      "17.92\n"
     ]
    }
   ],
   "source": [
    "# 3 Створіть масив розміром 8x8, заповніть його випадковими дійсними числами від -1 до 1 та знайдіть відсоток від'ємних чисел серед всіх елементів. \n",
    "arr = np.random.uniform(-1, 1, size=(8, 8))\n",
    "count=0\n",
    "print(arr)\n",
    "print(\"Task 3\")\n",
    "arr2 = list(map(lambda i: list(map(lambda j: globals().update(count=count+1) if (j < 0) else None, i)), arr))\n",
    "print(\"negative numbers percentage:\")\n",
    "print(sum(len(l) for l in arr)*count/100)"
   ]
  },
  {
   "cell_type": "code",
   "execution_count": 5,
   "id": "cbaa7013-1498-418f-bd86-f7e2b7df08df",
   "metadata": {},
   "outputs": [
    {
     "name": "stdout",
     "output_type": "stream",
     "text": [
      "Task 4\n",
      "[[-0.05369989  0.18903383  0.12381062 -0.31082598]\n",
      " [ 0.19969462 -0.77196382 -0.56699446  0.17446502]\n",
      " [-0.65273902 -0.53668304 -0.50783277  0.49316434]\n",
      " [ 0.00768426  0.59959688  0.28196381  0.15490399]]\n"
     ]
    }
   ],
   "source": [
    "# 4 Створіть масив розміром 4x4, заповніть його випадковими дійсними числами від -0.8 до 0.8 та виведіть його значення\n",
    "arr = np.random.uniform(-0.8, 0.8, size=(4, 4))\n",
    "print(\"Task 4\")\n",
    "print(arr)\n"
   ]
  },
  {
   "cell_type": "code",
   "execution_count": 6,
   "id": "c0a3c1ba-edaa-41bf-95dd-5c8c046935bd",
   "metadata": {},
   "outputs": [
    {
     "name": "stdout",
     "output_type": "stream",
     "text": [
      "Task 5\n",
      "Initial arrays\n",
      "[ 6  8 12  7  6 11]\n",
      "[12  7  7 11 10 10]\n",
      "Result of addition\n",
      "[18, 15, 19, 18, 16, 21]\n",
      "Result of substraction\n",
      "[-6, 1, 5, -4, -4, 1]\n",
      "Result of multiplication\n",
      "[72, 56, 84, 77, 60, 110]\n"
     ]
    }
   ],
   "source": [
    "# 5  Створіть два одновимірних масиви розміром 6, заповніть їх випадковими цілими числами\n",
    "# в діапазоні від 5 до 15 та виконайте на них поелементні операції додавання,\n",
    "# віднімання та множення. \n",
    "arr1 = np.random.randint(5, 15, size=(6))\n",
    "arr2 = np.random.randint(5, 15, size=(6))\n",
    "print(\"Task 5\")\n",
    "print(\"Initial arrays\")\n",
    "print(arr1)\n",
    "print(arr2)\n",
    "arr3 = [x+y for x, y in zip(arr1, arr2)]\n",
    "print(\"Result of addition\")\n",
    "print(arr3)\n",
    "arr4 = [x-y for x, y in zip(arr1, arr2)]\n",
    "print(\"Result of substraction\")\n",
    "print(arr4)\n",
    "print(\"Result of multiplication\")\n",
    "arr5 = [x*y for x, y in zip(arr1, arr2)]\n",
    "print(arr5)"
   ]
  },
  {
   "cell_type": "code",
   "execution_count": 7,
   "id": "a737e9a5-5a1a-4f74-86e3-0c451a759ec9",
   "metadata": {},
   "outputs": [
    {
     "name": "stdout",
     "output_type": "stream",
     "text": [
      "Task 6\n",
      "Initial arrays\n",
      "[ 789 -750 -426  247 -618  650 -418]\n",
      "[ 642 -133  352 -288  801 -799 -116]\n",
      "Scalar multiplication\n",
      "-580680\n"
     ]
    }
   ],
   "source": [
    "# 6 Створіть два вектори розміром 7, заповніть їх довільними цілими числами та знайдіть їх скалярний добуток.\n",
    "print(\"Task 6\")\n",
    "arr1 = np.random.randint(-1000, 1000, size=(7))\n",
    "arr2 = np.random.randint(-1000, 1000, size=(7))\n",
    "print(\"Initial arrays\")\n",
    "print(arr1)\n",
    "print(arr2)\n",
    "arr3 = np.dot(arr1, arr2) \n",
    "print(\"Scalar multiplication\")\n",
    "print(arr3)\n"
   ]
  },
  {
   "cell_type": "code",
   "execution_count": 8,
   "id": "f5559772-b2b7-45cf-bd1d-cf08a601694a",
   "metadata": {},
   "outputs": [
    {
     "name": "stdout",
     "output_type": "stream",
     "text": [
      "Initial arrays\n",
      "[[4 4]\n",
      " [4 1]\n",
      " [7 5]]\n",
      "[[2 4]\n",
      " [2 2]]\n",
      "Task 7\n",
      "[[16 24]\n",
      " [10 18]\n",
      " [24 38]]\n"
     ]
    }
   ],
   "source": [
    "# 7 Створіть дві матриці розміром 3x2 та 2x2, заповніть їх випадковими цілими числами в діапазоні від 1 до 8 та перемножте їх між собою. \n",
    "arr1 = np.random.randint(1, 8, size=(3, 2))\n",
    "arr2 = np.random.randint(1, 8, size=(2, 2))\n",
    "print(\"Initial arrays\")\n",
    "print(arr1)\n",
    "print(arr2)\n",
    "print(\"Task 7\")\n",
    "arr3 = np.matmul(arr1, arr2)\n",
    "print(arr3)"
   ]
  },
  {
   "cell_type": "code",
   "execution_count": 9,
   "id": "2c260375-9b02-4140-b2f7-ff97b66d259b",
   "metadata": {},
   "outputs": [
    {
     "name": "stdout",
     "output_type": "stream",
     "text": [
      "Task 8\n",
      "Initial matrix\n",
      "[[4 1 7]\n",
      " [4 5 1]\n",
      " [7 6 7]]\n",
      "Inverted matrix\n",
      "[[ 1.61111111  1.94444444 -1.88888889]\n",
      " [-1.16666667 -1.16666667  1.33333333]\n",
      " [-0.61111111 -0.94444444  0.88888889]]\n"
     ]
    }
   ],
   "source": [
    "# 8 Створіть матрицю розміром 3x3, заповніть її випадковими цілими числами в діапазоні від 1 до 8 та знайдіть її обернену матрицю. \n",
    "arr = np.random.randint(1, 8, size=(3, 3))\n",
    "inv = np.linalg.inv(arr)\n",
    "print(\"Task 8\")\n",
    "print(\"Initial matrix\")\n",
    "print(arr)\n",
    "print(\"Inverted matrix\")\n",
    "print(inv)"
   ]
  },
  {
   "cell_type": "code",
   "execution_count": 10,
   "id": "4178e8ca-5626-433d-914f-3f2e106b2e4f",
   "metadata": {},
   "outputs": [
    {
     "name": "stdout",
     "output_type": "stream",
     "text": [
      "Task 9\n",
      "Initial matrix\n",
      "[[-0.68331941 -0.48492026  0.4275273  -0.50513151]\n",
      " [ 0.04574007  0.63031751  0.77384108  0.26107119]\n",
      " [ 0.36548514  0.55259194  0.21259365  0.08939808]\n",
      " [-0.90964644  0.11950484 -0.93582639  0.9984274 ]]\n",
      "Transposed matrix\n",
      "[[-0.68331941  0.04574007  0.36548514 -0.90964644]\n",
      " [-0.48492026  0.63031751  0.55259194  0.11950484]\n",
      " [ 0.4275273   0.77384108  0.21259365 -0.93582639]\n",
      " [-0.50513151  0.26107119  0.08939808  0.9984274 ]]\n"
     ]
    }
   ],
   "source": [
    "# 9 Створіть матрицю розміром 4x4, заповніть її випадковими дійсними числами в діапазоні від -1 до 1 та транспонуйте її. \n",
    "arr = np.random.uniform(-1, 1, size=(4, 4))\n",
    "transp = np.transpose(arr)\n",
    "print(\"Task 9\")\n",
    "print(\"Initial matrix\")\n",
    "print(arr)\n",
    "print(\"Transposed matrix\")\n",
    "print(transp)"
   ]
  },
  {
   "cell_type": "code",
   "execution_count": 15,
   "id": "dd975484-2d8f-46b1-9a14-457eb948795c",
   "metadata": {},
   "outputs": [
    {
     "name": "stdout",
     "output_type": "stream",
     "text": [
      "Task 10\n",
      "Initial matrix\n",
      "[[0.20230548 0.81945079 0.25164532 0.86027153]\n",
      " [0.57803835 0.67917645 0.36160523 0.45370552]\n",
      " [0.58340577 0.6597177  0.12377694 0.78549569]]\n",
      "Initial vector\n",
      "[3 9 5 4]\n",
      "Multiplications sum\n",
      "35.599381666210796\n"
     ]
    }
   ],
   "source": [
    "# 10 Створіть матрицю розміром 3x4 та вектор розміром 4, заповніть матрицю випадковими дійсними числами від 0 до 1, \n",
    "# а вектор - випадковими цілими числами в діапазоні від 1 до 10,\n",
    "# і знайдіть суму добутків елементів кожного стовпця матриці на відповідний елемент вектору. \n",
    "matrix = np.random.uniform(0, 1, size=(3, 4))\n",
    "vector = np.random.randint(1, 10, size=(4))\n",
    "print(\"Task 10\")\n",
    "print(\"Initial matrix\")\n",
    "print(matrix)\n",
    "print(\"Initial vector\")\n",
    "print(vector)\n",
    "result = np.sum(matrix * vector, axis=0)\n",
    "print(\"Multiplications sum\")\n",
    "print(np.sum(result))"
   ]
  },
  {
   "cell_type": "code",
   "execution_count": 18,
   "id": "4bac1d45-2776-4789-a811-44e82c6e9cc4",
   "metadata": {},
   "outputs": [
    {
     "name": "stdout",
     "output_type": "stream",
     "text": [
      "Task 11\n",
      "Initial matrix\n",
      "[[3 7 7]\n",
      " [6 6 1]]\n",
      "Initial vector\n",
      "[0.13204264 0.13667195 0.02884339]\n",
      "Multiplications sum\n",
      "3.1958662756586214\n"
     ]
    }
   ],
   "source": [
    "# 11 Створіть матрицю розміром 2x3 та вектор розміром 3, заповніть матрицю випадковими цілими числами в діапазоні від 1 до 10, \n",
    "# а вектор - випадковими дійсними числами від 0 до 1, \n",
    "# і знайдіть суму добутків елементів кожного стовпця матриці на відповідний елемент вектору. \n",
    "matrix = np.random.randint(1, 10, size=(2, 3))\n",
    "vector = np.random.uniform(0, 1, size=(3))\n",
    "print(\"Task 11\")\n",
    "print(\"Initial matrix\")\n",
    "print(matrix)\n",
    "print(\"Initial vector\")\n",
    "print(vector)\n",
    "result = np.sum(matrix * vector, axis=0)\n",
    "print(\"Multiplications sum\")\n",
    "print(np.sum(result))"
   ]
  },
  {
   "cell_type": "code",
   "execution_count": 20,
   "id": "a4e93b5a-51f8-4ccd-a768-e3351b075996",
   "metadata": {},
   "outputs": [
    {
     "name": "stdout",
     "output_type": "stream",
     "text": [
      "Task 12\n",
      "Initial matrix 1\n",
      "[[8 8 1 5 8 7 9]\n",
      " [3 2 3 5 4 5 8]\n",
      " [6 9 1 9 7 9 6]\n",
      " [8 9 6 7 7 4 3]\n",
      " [2 9 7 9 2 4 4]\n",
      " [2 5 3 6 6 5 1]\n",
      " [4 8 2 7 4 7 2]]\n",
      "Initial matrix 2\n",
      "[[9 1 4 3 2 9 4]\n",
      " [8 9 4 3 8 1 7]\n",
      " [7 6 2 6 6 4 3]\n",
      " [3 9 8 5 4 3 2]\n",
      " [4 7 2 3 2 2 6]\n",
      " [3 6 6 3 6 7 6]\n",
      " [2 3 4 8 5 6 3]]\n",
      "234\n"
     ]
    }
   ],
   "source": [
    "# 12 Створіть дві матриці розміром 7x7, заповніть їх випадковими цілими числами в діапазоні від 1 до 10 та \n",
    "# знайдіть суму всіх елементів другої матриці. \n",
    "matrix1 = np.random.randint(1, 10, size=(7, 7))\n",
    "matrix2= np.random.randint(1, 10, size=(7, 7))\n",
    "sum = np.sum(matrix2)\n",
    "print(\"Task 12\")\n",
    "print(\"Initial matrix 1\")\n",
    "print(matrix1)\n",
    "print(\"Initial matrix 2\")\n",
    "print(matrix2)\n",
    "print(sum)"
   ]
  },
  {
   "cell_type": "code",
   "execution_count": 23,
   "id": "05dc1ccb-438d-42e4-8337-2af96e972526",
   "metadata": {},
   "outputs": [
    {
     "name": "stdout",
     "output_type": "stream",
     "text": [
      "Task 12\n",
      "Initial matrix 1\n",
      "[[9 8 6 4 5 2]\n",
      " [7 8 3 2 2 4]\n",
      " [2 4 4 5 7 9]\n",
      " [6 8 7 6 8 8]\n",
      " [3 4 6 4 2 4]\n",
      " [4 2 1 5 5 7]]\n",
      "Initial matrix 2\n",
      "[[4 6 8 6 2 9]\n",
      " [3 4 2 9 6 6]\n",
      " [6 1 1 5 7 5]\n",
      " [2 4 9 1 3 3]\n",
      " [6 7 4 8 4 8]\n",
      " [3 1 2 1 6 2]]\n",
      "345\n"
     ]
    }
   ],
   "source": [
    "# 13 Створіть дві матриці розміром 6x6, заповніть їх випадковими цілими числами в діапазоні від 1 до 10 та знайдіть суму їх елементів. \n",
    "matrix1 = np.random.randint(1, 10, size=(6, 6))\n",
    "matrix2= np.random.randint(1, 10, size=(6, 6))\n",
    "sum = np.sum(matrix1) + np.sum(matrix2)\n",
    "print(\"Task 13\")\n",
    "print(\"Initial matrix 1\")\n",
    "print(matrix1)\n",
    "print(\"Initial matrix 2\")\n",
    "print(matrix2)\n",
    "print(sum)"
   ]
  },
  {
   "cell_type": "code",
   "execution_count": 24,
   "id": "6f2ecf09-f30d-47b4-a160-838378f79e0f",
   "metadata": {},
   "outputs": [
    {
     "name": "stdout",
     "output_type": "stream",
     "text": [
      "Task 14\n",
      "Initial matrix\n",
      "[[89 68 58 30  1  6 81 68]\n",
      " [75 39 54 11 56 76 49 95]\n",
      " [ 9 28 40 24 32 78 93 97]\n",
      " [69 53 84 47 71 67 28 50]\n",
      " [93 17  7 84 72 38  5 53]\n",
      " [64 63  9 13 61 56 49 85]\n",
      " [44 80 43  7 83 78 74 36]\n",
      " [85 93 76 49 91 25 83 37]]\n",
      "454\n"
     ]
    }
   ],
   "source": [
    "# 14 Створіть матрицю розміром 8x8, заповніть її випадковими цілими числами в діапазоні від 1 до 100 та знайдіть суму елементів на головній діагоналі. \n",
    "matrix = np.random.randint(1, 100, size=(8, 8))\n",
    "print(\"Task 14\")\n",
    "print(\"Initial matrix\")\n",
    "print(matrix)\n",
    "result = np.trace(matrix)\n",
    "print(result)\n"
   ]
  },
  {
   "cell_type": "code",
   "execution_count": 30,
   "id": "04dac833-c6ba-4eb2-8846-871fe2fd05e3",
   "metadata": {},
   "outputs": [
    {
     "name": "stdout",
     "output_type": "stream",
     "text": [
      "Task 15\n",
      "Initial matrix\n",
      "[[ 0.28488153  0.90479176  0.46948785 -0.07415687 -0.26435309 -0.70743175\n",
      "  -0.58058661  0.40582842]\n",
      " [-0.36312787  0.23153008 -0.14940648  0.051698    0.46892664 -0.92349337\n",
      "   0.4220638  -0.41582927]\n",
      " [ 0.29161829  0.34671783 -0.66590166  0.25012768  0.86542859 -0.26990375\n",
      "  -0.51401745 -0.24694238]\n",
      " [-0.55896398 -0.49675489  0.07201539 -0.74234526 -0.33452213 -0.35854869\n",
      "  -0.01011716 -0.92950001]\n",
      " [ 0.38300711  0.64396829 -0.03035455  0.62968611 -0.89937344 -0.51972326\n",
      "  -0.5741772   0.28440188]\n",
      " [ 0.34269617 -0.99054738  0.75447206  0.71044855 -0.84578731  0.82736742\n",
      "   0.04819601 -0.82207599]\n",
      " [ 0.40087859  0.24460902  0.57786187 -0.40858249 -0.86100899  0.00953606\n",
      "  -0.01755463 -0.68241016]\n",
      " [ 0.21477713 -0.91304243  0.33676366 -0.39326088  0.88016437 -0.22034352\n",
      "  -0.81896235 -0.730768  ]]\n",
      "Vector containing the multiplication of elements in each column:\n",
      "[[ 1.90563384e-04]\n",
      " [-5.14017082e-03]\n",
      " [-1.49915120e-05]\n",
      " [ 5.11693739e-05]\n",
      " [-2.06879798e-02]\n",
      " [ 5.71235799e-05]\n",
      " [ 5.06983640e-07]\n",
      " [ 4.51618762e-03]]\n"
     ]
    }
   ],
   "source": [
    "# 15 Створіть матрицю розміром 8x8, заповніть її випадковими дійсними числами в діапазоні від -1 до 1 та \n",
    "# знайдіть вектор-стовпчик, що містить добуток елементів кожного стовпця матриці. \n",
    "matrix = np.random.uniform(-1, 1, size=(8, 8))\n",
    "print(\"Task 15\")\n",
    "print(\"Initial matrix\")\n",
    "print(matrix)\n",
    "column_mul = np.prod(matrix, axis=0)\n",
    "column_vect = column_mul.reshape(-1, 1)\n",
    "print(\"Vector containing the multiplication of elements in each column:\")\n",
    "print(column_vect)"
   ]
  },
  {
   "cell_type": "code",
   "execution_count": 2,
   "id": "f9e31d42-4186-41c1-9efc-0696d0be5b3e",
   "metadata": {},
   "outputs": [],
   "source": [
    "# Висновок: в процесі виконання лабораторної роботи я більш досконало вивчила можливості бібліотеки numpy, що стосуються лінійної алгебри.\n",
    "# Окремим завданням я поставила для себе мінімально використовувати цикли та максимально - можливості бібліотеки, адже так код є більш валідним\n",
    "# та виконується швидше (особливо актуально через специфіку мови python)"
   ]
  },
  {
   "cell_type": "code",
   "execution_count": null,
   "id": "b84638af-a547-4207-a2ae-07625876c920",
   "metadata": {},
   "outputs": [],
   "source": []
  }
 ],
 "metadata": {
  "kernelspec": {
   "display_name": "Python 3 (ipykernel)",
   "language": "python",
   "name": "python3"
  },
  "language_info": {
   "codemirror_mode": {
    "name": "ipython",
    "version": 3
   },
   "file_extension": ".py",
   "mimetype": "text/x-python",
   "name": "python",
   "nbconvert_exporter": "python",
   "pygments_lexer": "ipython3",
   "version": "3.10.7"
  }
 },
 "nbformat": 4,
 "nbformat_minor": 5
}
