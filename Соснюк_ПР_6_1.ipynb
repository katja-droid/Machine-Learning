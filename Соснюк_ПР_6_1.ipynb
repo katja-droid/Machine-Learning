{
 "cells": [
  {
   "cell_type": "code",
   "execution_count": 66,
   "id": "88dee039-0c82-4918-82a5-07d884b0efd4",
   "metadata": {},
   "outputs": [],
   "source": [
    "# СОСНЮК КАТЕРИНА ФІТ 4-6 ВАРІАНТ 22 ТЕМУ ВКР ОБРАЛА\n",
    "from sklearn.datasets import load_iris\n",
    "import pandas as pd\n",
    "\n",
    "# Завантажимо датафрейм\n",
    "iris = load_iris()\n",
    "data = pd.DataFrame(data=iris.data, columns=iris.feature_names)\n",
    "target = pd.DataFrame(data=iris.target, columns=[\"target\"])\n"
   ]
  },
  {
   "cell_type": "code",
   "execution_count": 68,
   "id": "b7650770-a772-4da3-875e-0c65267cf9a3",
   "metadata": {},
   "outputs": [
    {
     "name": "stdout",
     "output_type": "stream",
     "text": [
      "X_train shape: (120, 4)\n",
      "X_test shape: (30, 4)\n",
      "y_train shape: (120, 1)\n",
      "y_test shape: (30, 1)\n"
     ]
    }
   ],
   "source": [
    "# Розділити дані на тренувальний та тестовий набори\n",
    "from sklearn.model_selection import train_test_split\n",
    "\n",
    "X = data  \n",
    "y = target  \n",
    "\n",
    "X_train, X_test, y_train, y_test = train_test_split(X, y, test_size=0.2, random_state=42)\n",
    "# Виводимо розміри для перевірки\n",
    "print(\"X_train shape:\", X_train.shape)\n",
    "print(\"X_test shape:\", X_test.shape)\n",
    "print(\"y_train shape:\", y_train.shape)\n",
    "print(\"y_test shape:\", y_test.shape)\n"
   ]
  },
  {
   "cell_type": "code",
   "execution_count": 69,
   "id": "f0cf1295-098c-4fac-9c00-cfc7a1efe741",
   "metadata": {},
   "outputs": [
    {
     "name": "stdout",
     "output_type": "stream",
     "text": [
      "Точність (SVM): 1.0\n"
     ]
    }
   ],
   "source": [
    "# Застосувати алгоритм SVM для класифікації даних та визначити його точність\n",
    "from sklearn.svm import SVC\n",
    "from sklearn.metrics import accuracy_score\n",
    "\n",
    "svm_classifier = SVC(kernel='linear')\n",
    "svm_classifier.fit(X_train, y_train.values.ravel())\n",
    "\n",
    "y_pred = svm_classifier.predict(X_test)\n",
    "\n",
    "accuracy = accuracy_score(y_test, y_pred)\n",
    "print(\"Точність (SVM):\", accuracy)"
   ]
  },
  {
   "cell_type": "code",
   "execution_count": 70,
   "id": "69a5fa69-7894-43ad-a3a7-1ecafead01ec",
   "metadata": {},
   "outputs": [
    {
     "name": "stdout",
     "output_type": "stream",
     "text": [
      "Точність (Random Forest): 1.0\n"
     ]
    }
   ],
   "source": [
    "# Застосувати Random Forest для класифікації даних та визначити його точність\n",
    "from sklearn.ensemble import RandomForestClassifier\n",
    "\n",
    "rf_classifier = RandomForestClassifier(random_state=42)\n",
    "rf_classifier.fit(X_train, y_train.values.ravel())\n",
    "\n",
    "y_pred = rf_classifier.predict(X_test)\n",
    "\n",
    "accuracy = accuracy_score(y_test, y_pred)\n",
    "print(\"Точність (Random Forest):\", accuracy)"
   ]
  },
  {
   "cell_type": "code",
   "execution_count": 72,
   "id": "aa72f2ba-6f0e-4950-aee9-7dd33259bdbd",
   "metadata": {},
   "outputs": [],
   "source": [
    "# Порівняти результати обох алгоритмів та обговорити їхню ефективність\n",
    "# Висновок: обидва алгоритми показали абсолютну точність, отже однаково ефективні на даному датасеті"
   ]
  },
  {
   "cell_type": "code",
   "execution_count": null,
   "id": "f8c5fdde-a52f-4827-80ef-bb57f96b863f",
   "metadata": {},
   "outputs": [],
   "source": []
  }
 ],
 "metadata": {
  "kernelspec": {
   "display_name": "Python 3 (ipykernel)",
   "language": "python",
   "name": "python3"
  },
  "language_info": {
   "codemirror_mode": {
    "name": "ipython",
    "version": 3
   },
   "file_extension": ".py",
   "mimetype": "text/x-python",
   "name": "python",
   "nbconvert_exporter": "python",
   "pygments_lexer": "ipython3",
   "version": "3.10.7"
  }
 },
 "nbformat": 4,
 "nbformat_minor": 5
}
